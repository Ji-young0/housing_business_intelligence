{
 "cells": [
  {
   "cell_type": "markdown",
   "id": "cb9175af-5822-42ae-9dc9-e84e17b57bef",
   "metadata": {},
   "source": [
    "Imports"
   ]
  },
  {
   "cell_type": "code",
   "execution_count": 1,
   "id": "ce2294f5-60d8-4bab-b332-ed6ac63eaac7",
   "metadata": {},
   "outputs": [],
   "source": [
    "import kagglehub\n",
    "import os\n",
    "import pandas as pd\n",
    "import numpy as np"
   ]
  },
  {
   "cell_type": "markdown",
   "id": "fe266abc-be8c-4904-b3dc-cec277482d02",
   "metadata": {},
   "source": [
    "Data Downloads"
   ]
  },
  {
   "cell_type": "code",
   "execution_count": 7,
   "id": "d075ec8a-7c74-4b53-a3d0-5fa48c7ec6ea",
   "metadata": {},
   "outputs": [
    {
     "name": "stdout",
     "output_type": "stream",
     "text": [
      "Warning: Looks like you're using an outdated `kagglehub` version (installed: 0.3.11), please consider upgrading to the latest version (0.3.12).\n",
      "Warning: Looks like you're using an outdated `kagglehub` version (installed: 0.3.11), please consider upgrading to the latest version (0.3.12).\n"
     ]
    }
   ],
   "source": [
    "# Germany\n",
    "path_germany = kagglehub.dataset_download(\"corrieaar/apartment-rental-offers-in-germany\")\n",
    "germany_csvs = [f for f in os.listdir(path_germany) if f.endswith('.csv')]\n",
    "df_germany = pd.read_csv(os.path.join(path_germany, germany_csvs[0]))\n",
    "\n",
    "# Poland\n",
    "path_poland = kagglehub.dataset_download(\"krzysztofjamroz/apartment-prices-in-poland\")\n",
    "poland_csvs = [f for f in os.listdir(path_poland) if f.endswith('.csv')]\n",
    "\n",
    "# Filter only rental-related files\n",
    "rental_files = [f for f in poland_csvs if 'apartments_rent_pl' in f.lower()]\n",
    "\n",
    "# Load and combine them into a single DataFrame\n",
    "df_poland = pd.concat(\n",
    "    [pd.read_csv(os.path.join(path_poland, f)) for f in rental_files],\n",
    "    ignore_index=True\n",
    ")"
   ]
  },
  {
   "cell_type": "markdown",
   "id": "263679d9-5280-44e1-ac4a-48bd278fe405",
   "metadata": {},
   "source": [
    "Data Processing Pipeline\n",
    "comments:\n",
    "\n",
    "-only germany has heatingType data\n",
    "\n",
    "-description not needed imo\n",
    "\n",
    "-dates not needed imo\n",
    "\n",
    "-added floor and elevator data and they both had it, and they could be interesting"
   ]
  },
  {
   "cell_type": "code",
   "execution_count": 3,
   "id": "d9bd67aa-84df-4b9b-b0b3-1e51a49bf06f",
   "metadata": {},
   "outputs": [
    {
     "name": "stdout",
     "output_type": "stream",
     "text": [
      "(339697, 9)\n"
     ]
    }
   ],
   "source": [
    "# Germany\n",
    "selected_columns_germany = ['livingSpace', 'noRooms', 'balcony', 'heatingType', 'yearConstructed',\n",
    "                           'totalRent', 'baseRent', 'serviceCharge', 'heatingCosts', 'date', 'floor', 'lift'] \n",
    "df_germany_selected = df_germany[selected_columns_germany]\n",
    "#print(df_germany_selected)\n",
    "\n",
    "# Fill missing totalRent with baseRent + serviceCharge + heatingCosts\n",
    "df_germany['totalRent'] = df_germany['totalRent'].fillna(\n",
    "    df_germany['baseRent'].fillna(0) + df_germany['serviceCharge'].fillna(0) + df_germany['heatingCosts'].fillna(0)\n",
    ")\n",
    "\n",
    "# Select and rename columns\n",
    "df_germany_cleaned = pd.DataFrame({\n",
    "    'size': df_germany['livingSpace'],\n",
    "    'number_of_rooms': df_germany['noRooms'],\n",
    "    'construction_year': df_germany['yearConstructed'],\n",
    "    'total_rent': df_germany['totalRent'],\n",
    "    'floor': df_germany['floor'],\n",
    "    'balcony': df_germany['balcony'],\n",
    "    'elevator': df_germany['lift'],\n",
    "    'heating_type': df_germany['heatingType'],\n",
    "    'country': 'Germany'\n",
    "})\n",
    "\n",
    "# Poland \n",
    "selected_columns_poland = ['squareMeters', 'rooms', 'hasBalcony', 'buildYear', 'price', 'floor', 'hasElevator']\n",
    "df_poland_selected = df_poland[selected_columns_poland]\n",
    "#print(df_poland_selected)\n",
    "\n",
    "\n",
    "# Exchange rate: 1 Złoty = 0.23 Euro\n",
    "zloty_euro_rate = 0.23\n",
    "df_poland['price_eur'] = df_poland['price'] * zloty_euro_rate\n",
    "\n",
    "# format balcony and elevator\n",
    "df_poland['hasBalcony'] = df_poland['hasBalcony'].map({\"yes\": True, \"no\": False})\n",
    "df_poland['hasElevator'] = df_poland['hasElevator'].map({\"yes\": True, \"no\": False})\n",
    "\n",
    "# Select and rename columns\n",
    "df_poland_cleaned = pd.DataFrame({\n",
    "    'size': df_poland['squareMeters'],\n",
    "    'number_of_rooms': df_poland['rooms'],\n",
    "    'construction_year': df_poland['buildYear'],\n",
    "    'total_rent': df_poland['price_eur'],\n",
    "    'floor': df_poland['floor'],\n",
    "    'balcony': df_poland['hasBalcony'],\n",
    "    'elevator': df_poland['hasElevator'],\n",
    "    'heating_type': np.nan,  # Poland dataset has no heatingType\n",
    "    'country': 'Poland'\n",
    "})\n",
    "\n",
    "# Combine both datasets\n",
    "df_combined_rentals = pd.concat([df_germany_cleaned, df_poland_cleaned], ignore_index=True)\n",
    "\n",
    "# Optional: preview\n",
    "print(df_combined_rentals.shape)\n",
    "df_combined_rentals.head()\n",
    "\n",
    "\n",
    "# save to csv\n",
    "df_combined_rentals.to_csv('data/cleaned_apartments_rentals.csv', index=False)"
   ]
  },
  {
   "cell_type": "markdown",
   "id": "656bc279-4085-4737-b8cb-e168961d1840",
   "metadata": {},
   "source": [
    "Dimensional Model"
   ]
  },
  {
   "cell_type": "code",
   "execution_count": 6,
   "id": "7be858a2-1053-4917-b1e6-ade1345394ca",
   "metadata": {},
   "outputs": [],
   "source": [
    "# Country Dimension\n",
    "dim_country = pd.DataFrame({\n",
    "    'Country': ['Germany', 'Poland'],\n",
    "    'Currency': ['EUR', 'PLN'],\n",
    "    'PurchasingPowerParity': [1.0, 0.8]\n",
    "})\n",
    "dim_country['CountryKey'] = dim_country.index + 1\n",
    "\n",
    "# Apartment Dimension\n",
    "dim_apartment = df_combined_rentals[['size', 'number_of_rooms', 'balcony', 'construction_year', 'elevator', 'floor']].drop_duplicates().reset_index(drop=True)\n",
    "\n",
    "dim_apartment['ApartmentKey'] = dim_apartment.index + 1\n",
    "\n",
    "\n",
    "# Date Dimension\n"
   ]
  },
  {
   "cell_type": "code",
   "execution_count": null,
   "id": "75ac2861-9b49-483f-971d-5dd6905e9802",
   "metadata": {},
   "outputs": [],
   "source": []
  }
 ],
 "metadata": {
  "kernelspec": {
   "display_name": "Python 3 (ipykernel)",
   "language": "python",
   "name": "python3"
  },
  "language_info": {
   "codemirror_mode": {
    "name": "ipython",
    "version": 3
   },
   "file_extension": ".py",
   "mimetype": "text/x-python",
   "name": "python",
   "nbconvert_exporter": "python",
   "pygments_lexer": "ipython3",
   "version": "3.11.7"
  }
 },
 "nbformat": 4,
 "nbformat_minor": 5
}
